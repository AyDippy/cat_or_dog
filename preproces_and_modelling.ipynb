{
  "cells": [
    {
      "cell_type": "code",
      "execution_count": 1,
      "metadata": {
        "id": "sFhpsT3O4ENf"
      },
      "outputs": [],
      "source": [
        "#Importing the necessary Libraries\n",
        "from tensorflow import keras\n",
        "from tensorflow.keras.preprocessing.image import ImageDataGenerator\n",
        "import tensorflow as tf"
      ]
    },
    {
      "cell_type": "markdown",
      "metadata": {
        "id": "XtOHwjhQM3WG"
      },
      "source": [
        "#Preprocessing"
      ]
    },
    {
      "cell_type": "code",
      "execution_count": 2,
      "metadata": {
        "id": "5ajWtLXeH_pH"
      },
      "outputs": [],
      "source": [
        "#Performing data augmentation on training set\n",
        "train_datagen = ImageDataGenerator(\n",
        "  rotation_range = 40,\n",
        "  width_shift_range=0.2,\n",
        "  height_shift_range=0.2,\n",
        "  shear_range=0.2,\n",
        "  zoom_range=0.2,\n",
        "  horizontal_flip=True,\n",
        "  rescale = 1. /255\n",
        ")"
      ]
    },
    {
      "cell_type": "code",
      "execution_count": 3,
      "metadata": {
        "id": "De2n8IAzIs1X"
      },
      "outputs": [],
      "source": [
        "#rescaling the cvalidation set\n",
        "validate_datagen = ImageDataGenerator(\n",
        "    rescale = 1. /255\n",
        ")"
      ]
    },
    {
      "cell_type": "code",
      "execution_count": 4,
      "metadata": {
        "id": "aJ-0ONWeJbgk"
      },
      "outputs": [],
      "source": [
        "#location of both validation and training set\n",
        "val_data_loc = \"/content/drive/MyDrive/Validation\"\n",
        "train_data_loc = \"/content/drive/MyDrive/Train\""
      ]
    },
    {
      "cell_type": "code",
      "execution_count": 5,
      "metadata": {
        "colab": {
          "base_uri": "https://localhost:8080/"
        },
        "id": "ZV64GpOfJ8iE",
        "outputId": "fef34f1a-b939-4a5b-f81b-baffe25f07f7"
      },
      "outputs": [
        {
          "output_type": "stream",
          "name": "stdout",
          "text": [
            "Drive already mounted at /content/drive; to attempt to forcibly remount, call drive.mount(\"/content/drive\", force_remount=True).\n"
          ]
        }
      ],
      "source": [
        "from google.colab import drive\n",
        "drive.mount('/content/drive')"
      ]
    },
    {
      "cell_type": "code",
      "execution_count": 6,
      "metadata": {
        "colab": {
          "base_uri": "https://localhost:8080/"
        },
        "id": "A0egnM_WJlkk",
        "outputId": "baa05b1f-5fd6-4e4b-f425-cdd36ef91f0f"
      },
      "outputs": [
        {
          "output_type": "stream",
          "name": "stdout",
          "text": [
            "Found 20105 images belonging to 2 classes.\n",
            "Found 5123 images belonging to 2 classes.\n"
          ]
        }
      ],
      "source": [
        "#Data generator applied on my training set\n",
        "train_generator = train_datagen.flow_from_directory(\n",
        "    train_data_loc,\n",
        "    target_size = (180,180),\n",
        "    batch_size = 300,\n",
        "    class_mode = 'binary'\n",
        ")\n",
        "\n",
        "#Data generator applied on validation set\n",
        "validation_generator = validate_datagen.flow_from_directory(\n",
        "    val_data_loc,\n",
        "    target_size = (180,180),\n",
        "    batch_size = 300,\n",
        "    class_mode = 'binary'\n",
        ")"
      ]
    },
    {
      "cell_type": "markdown",
      "metadata": {
        "id": "OCXkEGJSM-PG"
      },
      "source": [
        "#Model Training"
      ]
    },
    {
      "cell_type": "code",
      "execution_count": 7,
      "metadata": {
        "id": "6ERLPYlJMdK7"
      },
      "outputs": [],
      "source": [
        "#Importing Necessary Libraries for Model Training\n",
        "from tensorflow.keras.applications import VGG16\n",
        "from tensorflow.keras import layers"
      ]
    },
    {
      "cell_type": "code",
      "execution_count": 8,
      "metadata": {
        "colab": {
          "base_uri": "https://localhost:8080/"
        },
        "id": "A_8oTR7jOFsC",
        "outputId": "c7121dfd-a1d8-4d47-cd75-9d31a972f687"
      },
      "outputs": [
        {
          "output_type": "stream",
          "name": "stdout",
          "text": [
            "Downloading data from https://storage.googleapis.com/tensorflow/keras-applications/vgg16/vgg16_weights_tf_dim_ordering_tf_kernels_notop.h5\n",
            "58889256/58889256 [==============================] - 0s 0us/step\n"
          ]
        }
      ],
      "source": [
        "#using the VGG16 model as base for feature extraction\n",
        "base_model = VGG16(weights  = 'imagenet', include_top = False, input_shape = (180, 180, 3))"
      ]
    },
    {
      "cell_type": "code",
      "execution_count": 9,
      "metadata": {
        "id": "4dtJXnu-Or76"
      },
      "outputs": [],
      "source": [
        "for layer in base_model.layers:\n",
        "  layer.trainable = False"
      ]
    },
    {
      "cell_type": "code",
      "execution_count": 10,
      "metadata": {
        "id": "DzpWa0nkO0vB"
      },
      "outputs": [],
      "source": [
        "model = keras.Sequential([\n",
        "    base_model,\n",
        "    layers.Flatten(),\n",
        "    layers.Dense(512, activation = 'relu'),\n",
        "    layers.Dropout(0.5),\n",
        "    layers.Dense(512, activation = 'relu'),\n",
        "    layers.Dropout(0.5),\n",
        "    layers.Dense(256, activation = 'relu'),\n",
        "    layers.Dropout(0.5),\n",
        "    layers.Dense(128, activation = 'relu'),\n",
        "    layers.Dropout(0.5),\n",
        "    layers.Dense(1, activation = 'sigmoid')\n",
        "])"
      ]
    },
    {
      "cell_type": "code",
      "execution_count": 11,
      "metadata": {
        "id": "oUY6cdEGR0SK"
      },
      "outputs": [],
      "source": [
        "model.compile(optimizer='adam',\n",
        "              loss='binary_crossentropy',\n",
        "              metrics=['accuracy'])"
      ]
    },
    {
      "cell_type": "code",
      "execution_count": 12,
      "metadata": {
        "colab": {
          "base_uri": "https://localhost:8080/"
        },
        "id": "B2yIRHy_R6hB",
        "outputId": "3f3c2dee-093c-475c-8271-a527b00f23f3"
      },
      "outputs": [
        {
          "metadata": {
            "tags": null
          },
          "name": "stdout",
          "output_type": "stream",
          "text": [
            "Epoch 1/10\n",
            "12/68 [====>.........................] - ETA: 30:13 - loss: 0.8992 - accuracy: 0.5164"
          ]
        },
        {
          "metadata": {
            "tags": null
          },
          "name": "stderr",
          "output_type": "stream",
          "text": [
            "/usr/local/lib/python3.10/dist-packages/PIL/TiffImagePlugin.py:858: UserWarning: Truncated File Read\n",
            "  warnings.warn(str(msg))\n"
          ]
        },
        {
          "output_type": "stream",
          "name": "stdout",
          "text": [
            "68/68 [==============================] - 3366s 49s/step - loss: 0.6257 - accuracy: 0.6626 - val_loss: 0.3205 - val_accuracy: 0.8733\n",
            "Epoch 2/10\n",
            "68/68 [==============================] - 264s 4s/step - loss: 0.4026 - accuracy: 0.8228 - val_loss: 0.2526 - val_accuracy: 0.8971\n",
            "Epoch 3/10\n",
            "68/68 [==============================] - 261s 4s/step - loss: 0.3640 - accuracy: 0.8420 - val_loss: 0.2536 - val_accuracy: 0.8944\n",
            "Epoch 4/10\n",
            "68/68 [==============================] - 258s 4s/step - loss: 0.3379 - accuracy: 0.8545 - val_loss: 0.2240 - val_accuracy: 0.9112\n",
            "Epoch 5/10\n",
            "68/68 [==============================] - 259s 4s/step - loss: 0.3366 - accuracy: 0.8523 - val_loss: 0.2104 - val_accuracy: 0.9147\n",
            "Epoch 6/10\n",
            "68/68 [==============================] - 259s 4s/step - loss: 0.3346 - accuracy: 0.8582 - val_loss: 0.2889 - val_accuracy: 0.9145\n",
            "Epoch 7/10\n",
            "68/68 [==============================] - 258s 4s/step - loss: 0.3445 - accuracy: 0.8538 - val_loss: 0.2346 - val_accuracy: 0.9168\n",
            "Epoch 8/10\n",
            "68/68 [==============================] - 257s 4s/step - loss: 0.3313 - accuracy: 0.8597 - val_loss: 0.2081 - val_accuracy: 0.9141\n",
            "Epoch 9/10\n",
            "68/68 [==============================] - 256s 4s/step - loss: 0.3162 - accuracy: 0.8663 - val_loss: 0.2121 - val_accuracy: 0.9161\n",
            "Epoch 10/10\n",
            "68/68 [==============================] - 260s 4s/step - loss: 0.3302 - accuracy: 0.8531 - val_loss: 0.2149 - val_accuracy: 0.9168\n"
          ]
        }
      ],
      "source": [
        "history = model.fit(\n",
        "    train_generator,\n",
        "    epochs = 10,\n",
        "    validation_data = validation_generator\n",
        ")"
      ]
    },
    {
      "cell_type": "code",
      "execution_count": 13,
      "metadata": {
        "id": "RgN_QSjgSPhK",
        "colab": {
          "base_uri": "https://localhost:8080/",
          "height": 507
        },
        "outputId": "54a30e92-97d8-4da2-ff63-1d9882f07e99"
      },
      "outputs": [
        {
          "output_type": "display_data",
          "data": {
            "text/plain": [
              "<Figure size 1200x500 with 2 Axes>"
            ],
            "image/png": "[encoded data removed]"
          },
          "metadata": {}
        }
      ],
      "source": [
        "import matplotlib.pyplot as plt\n",
        "\n",
        "# Plotting training & validation accuracy values\n",
        "plt.figure(figsize=(12, 5))\n",
        "plt.subplot(1, 2, 1)\n",
        "plt.plot(history.history['accuracy'])\n",
        "plt.plot(history.history['val_accuracy'])\n",
        "plt.title('Model Accuracy')\n",
        "plt.ylabel('Accuracy')\n",
        "plt.xlabel('Epoch')\n",
        "plt.legend(['Train', 'Validation'], loc='upper left')\n",
        "\n",
        "# Plotting training & validation loss values\n",
        "plt.subplot(1, 2, 2)\n",
        "plt.plot(history.history['loss'])\n",
        "plt.plot(history.history['val_loss'])\n",
        "plt.title('Model Loss')\n",
        "plt.ylabel('Loss')\n",
        "plt.xlabel('Epoch')\n",
        "plt.legend(['Train', 'Validation'], loc='upper left')\n",
        "\n",
        "plt.show()\n"
      ]
    },
    {
      "cell_type": "code",
      "source": [
        "model.save('cat_or_dog.h5')"
      ],
      "metadata": {
        "colab": {
          "base_uri": "https://localhost:8080/"
        },
        "id": "50hkfBoGZfXL",
        "outputId": "5352c96a-8aab-406d-da84-f736f55480c9"
      },
      "execution_count": 14,
      "outputs": [
        {
          "output_type": "stream",
          "name": "stderr",
          "text": [
            "/usr/local/lib/python3.10/dist-packages/keras/src/engine/training.py:3079: UserWarning: You are saving your model as an HDF5 file via `model.save()`. This file format is considered legacy. We recommend using instead the native Keras format, e.g. `model.save('my_model.keras')`.\n",
            "  saving_api.save_model(\n"
          ]
        }
      ]
    },
    {
      "cell_type": "code",
      "source": [],
      "metadata": {
        "id": "f-9Ft8B9Zk1B"
      },
      "execution_count": null,
      "outputs": []
    }
  ],
  "metadata": {
    "accelerator": "GPU",
    "colab": {
      "provenance": [],
      "gpuType": "T4"
    },
    "kernelspec": {
      "display_name": "Python 3",
      "name": "python3"
    },
    "language_info": {
      "name": "python"
    }
  },
  "nbformat": 4,
  "nbformat_minor": 0
}