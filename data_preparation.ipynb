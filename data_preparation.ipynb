{
 "cells": [
  {
   "cell_type": "code",
   "execution_count": 1,
   "id": "ccc0d74c",
   "metadata": {},
   "outputs": [
    {
     "name": "stdout",
     "output_type": "stream",
     "text": [
      "Data has been successfully split into train and validation sets.\n"
     ]
    }
   ],
   "source": [
    "import os\n",
    "import shutil\n",
    "from sklearn.model_selection import train_test_split\n",
    "\n",
    "# Set the path to your data preparation folder\n",
    "data_folder = r\"C:\\Users\\Dipeolu Ayomide\\OneDrive\\Desktop\\cat_or_dog\\data_preparation\"\n",
    "\n",
    "# Set the path to the train and validation folders\n",
    "train_folder = os.path.join(data_folder, 'Train')\n",
    "validation_folder = os.path.join(data_folder, 'Validation')\n",
    "\n",
    "# Create train and validation folders if they don't exist\n",
    "os.makedirs(train_folder, exist_ok=True)\n",
    "os.makedirs(validation_folder, exist_ok=True)\n",
    "\n",
    "# Define the categories (Cat and Dog)\n",
    "categories = ['Cat', 'Dog']\n",
    "\n",
    "# Set the percentage of data to be used for training (80%)\n",
    "train_percentage = 0.8\n",
    "\n",
    "# Iterate over each category\n",
    "for category in categories:\n",
    "    category_folder = os.path.join(data_folder, category)\n",
    "    \n",
    "    # Get a list of all files in the category folder\n",
    "    files = os.listdir(category_folder)\n",
    "    \n",
    "    # Split the files into training and validation sets\n",
    "    train_files, validation_files = train_test_split(files, train_size=train_percentage, random_state=42)\n",
    "    \n",
    "    # Create subfolders for training and validation within the train and validation folders\n",
    "    train_category_folder = os.path.join(train_folder, category)\n",
    "    validation_category_folder = os.path.join(validation_folder, category)\n",
    "    \n",
    "    os.makedirs(train_category_folder, exist_ok=True)\n",
    "    os.makedirs(validation_category_folder, exist_ok=True)\n",
    "    \n",
    "    # Copy training files to the train category folder\n",
    "    for file_name in train_files:\n",
    "        source_path = os.path.join(category_folder, file_name)\n",
    "        destination_path = os.path.join(train_category_folder, file_name)\n",
    "        shutil.copy(source_path, destination_path)\n",
    "    \n",
    "    # Copy validation files to the validation category folder\n",
    "    for file_name in validation_files:\n",
    "        source_path = os.path.join(category_folder, file_name)\n",
    "        destination_path = os.path.join(validation_category_folder, file_name)\n",
    "        shutil.copy(source_path, destination_path)\n",
    "\n",
    "print(\"Data has been successfully split into train and validation sets.\")\n"
   ]
  },
  {
   "cell_type": "code",
   "execution_count": null,
   "id": "e91833d6",
   "metadata": {},
   "outputs": [],
   "source": []
  }
 ],
 "metadata": {
  "kernelspec": {
   "display_name": "Python 3 (ipykernel)",
   "language": "python",
   "name": "python3"
  },
  "language_info": {
   "codemirror_mode": {
    "name": "ipython",
    "version": 3
   },
   "file_extension": ".py",
   "mimetype": "text/x-python",
   "name": "python",
   "nbconvert_exporter": "python",
   "pygments_lexer": "ipython3",
   "version": "3.10.9"
  }
 },
 "nbformat": 4,
 "nbformat_minor": 5
}
